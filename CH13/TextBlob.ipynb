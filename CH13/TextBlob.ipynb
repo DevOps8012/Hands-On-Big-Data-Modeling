{
 "cells": [
  {
   "cell_type": "code",
   "execution_count": 1,
   "metadata": {},
   "outputs": [],
   "source": [
    "from textblob import TextBlob"
   ]
  },
  {
   "cell_type": "code",
   "execution_count": 3,
   "metadata": {},
   "outputs": [],
   "source": [
    "text = TextBlob(\"Twitter is one of the most important social media used in today's world. It provides the platform to share people's opinions, facts and information regarding person, place, animals or things. These tweets are used by several private, governmental and non-governmental organizations to mine different types of information including business intelligence.\")"
   ]
  },
  {
   "cell_type": "code",
   "execution_count": 4,
   "metadata": {},
   "outputs": [
    {
     "data": {
      "text/plain": [
       "TextBlob(\"Twitter is one of the most important social media used in today's world. It provides the platform to share people's opinions, facts and information regarding person, place, animals or things. These tweets are used by several private, governmental and non-governmental organizations to mine different types of information including business intelligence.\")"
      ]
     },
     "execution_count": 4,
     "metadata": {},
     "output_type": "execute_result"
    }
   ],
   "source": [
    "text"
   ]
  },
  {
   "cell_type": "markdown",
   "metadata": {},
   "source": [
    "# Part-of-speech Tagging"
   ]
  },
  {
   "cell_type": "code",
   "execution_count": 5,
   "metadata": {
    "scrolled": false
   },
   "outputs": [
    {
     "data": {
      "text/plain": [
       "[('Twitter', 'NN'),\n",
       " ('is', 'VBZ'),\n",
       " ('one', 'CD'),\n",
       " ('of', 'IN'),\n",
       " ('the', 'DT'),\n",
       " ('most', 'RBS'),\n",
       " ('important', 'JJ'),\n",
       " ('social', 'JJ'),\n",
       " ('media', 'NNS'),\n",
       " ('used', 'VBN'),\n",
       " ('in', 'IN'),\n",
       " ('today', 'NN'),\n",
       " (\"'s\", 'POS'),\n",
       " ('world', 'NN'),\n",
       " ('It', 'PRP'),\n",
       " ('provides', 'VBZ'),\n",
       " ('the', 'DT'),\n",
       " ('platform', 'NN'),\n",
       " ('to', 'TO'),\n",
       " ('share', 'NN'),\n",
       " ('people', 'NNS'),\n",
       " (\"'s\", 'POS'),\n",
       " ('opinions', 'NNS'),\n",
       " ('facts', 'NNS'),\n",
       " ('and', 'CC'),\n",
       " ('information', 'NN'),\n",
       " ('regarding', 'VBG'),\n",
       " ('person', 'NN'),\n",
       " ('place', 'NN'),\n",
       " ('animals', 'NNS'),\n",
       " ('or', 'CC'),\n",
       " ('things', 'NNS'),\n",
       " ('These', 'DT'),\n",
       " ('tweets', 'NNS'),\n",
       " ('are', 'VBP'),\n",
       " ('used', 'VBN'),\n",
       " ('by', 'IN'),\n",
       " ('several', 'JJ'),\n",
       " ('private', 'JJ'),\n",
       " ('governmental', 'JJ'),\n",
       " ('and', 'CC'),\n",
       " ('non-governmental', 'JJ'),\n",
       " ('organizations', 'NNS'),\n",
       " ('to', 'TO'),\n",
       " ('mine', 'VB'),\n",
       " ('different', 'JJ'),\n",
       " ('types', 'NNS'),\n",
       " ('of', 'IN'),\n",
       " ('information', 'NN'),\n",
       " ('including', 'VBG'),\n",
       " ('business', 'NN'),\n",
       " ('intelligence', 'NN')]"
      ]
     },
     "execution_count": 5,
     "metadata": {},
     "output_type": "execute_result"
    }
   ],
   "source": [
    "text.tags"
   ]
  },
  {
   "cell_type": "code",
   "execution_count": 6,
   "metadata": {},
   "outputs": [
    {
     "data": {
      "text/plain": [
       "WordList(['Twitter', 'is', 'one', 'of', 'the', 'most', 'important', 'social', 'media', 'used', 'in', 'today', \"'s\", 'world', 'It', 'provides', 'the', 'platform', 'to', 'share', 'people', \"'s\", 'opinions', 'facts', 'and', 'information', 'regarding', 'person', 'place', 'animals', 'or', 'things', 'These', 'tweets', 'are', 'used', 'by', 'several', 'private', 'governmental', 'and', 'non-governmental', 'organizations', 'to', 'mine', 'different', 'types', 'of', 'information', 'including', 'business', 'intelligence'])"
      ]
     },
     "execution_count": 6,
     "metadata": {},
     "output_type": "execute_result"
    }
   ],
   "source": [
    "text.words"
   ]
  },
  {
   "cell_type": "markdown",
   "metadata": {},
   "source": [
    "# Noun Phrase Extraction"
   ]
  },
  {
   "cell_type": "code",
   "execution_count": 10,
   "metadata": {},
   "outputs": [
    {
     "data": {
      "text/plain": [
       "WordList(['twitter', 'important social media', \"'s world\", \"people 's opinions\", 'non-governmental organizations', 'different types', 'business intelligence'])"
      ]
     },
     "execution_count": 10,
     "metadata": {},
     "output_type": "execute_result"
    }
   ],
   "source": [
    "noun = text.noun_phrases\n",
    "noun"
   ]
  },
  {
   "cell_type": "markdown",
   "metadata": {},
   "source": [
    "# Tokenization"
   ]
  },
  {
   "cell_type": "code",
   "execution_count": 11,
   "metadata": {},
   "outputs": [
    {
     "data": {
      "text/plain": [
       "WordList(['Twitter', 'is', 'one', 'of', 'the', 'most', 'important', 'social', 'media', 'used', 'in', 'today', \"'s\", 'world', 'It', 'provides', 'the', 'platform', 'to', 'share', 'people', \"'s\", 'opinions', 'facts', 'and', 'information', 'regarding', 'person', 'place', 'animals', 'or', 'things', 'These', 'tweets', 'are', 'used', 'by', 'several', 'private', 'governmental', 'and', 'non-governmental', 'organizations', 'to', 'mine', 'different', 'types', 'of', 'information', 'including', 'business', 'intelligence'])"
      ]
     },
     "execution_count": 11,
     "metadata": {},
     "output_type": "execute_result"
    }
   ],
   "source": [
    "text.words"
   ]
  },
  {
   "cell_type": "code",
   "execution_count": 12,
   "metadata": {},
   "outputs": [
    {
     "data": {
      "text/plain": [
       "[Sentence(\"Twitter is one of the most important social media used in today's world.\"),\n",
       " Sentence(\"It provides the platform to share people's opinions, facts and information regarding person, place, animals or things.\"),\n",
       " Sentence(\"These tweets are used by several private, governmental and non-governmental organizations to mine different types of information including business intelligence.\")]"
      ]
     },
     "execution_count": 12,
     "metadata": {},
     "output_type": "execute_result"
    }
   ],
   "source": [
    "text.sentences"
   ]
  },
  {
   "cell_type": "code",
   "execution_count": 74,
   "metadata": {},
   "outputs": [
    {
     "data": {
      "text/plain": [
       "1"
      ]
     },
     "execution_count": 74,
     "metadata": {},
     "output_type": "execute_result"
    }
   ],
   "source": [
    "text.word_counts['twitter']"
   ]
  },
  {
   "cell_type": "code",
   "execution_count": 57,
   "metadata": {},
   "outputs": [],
   "source": [
    "from sklearn.feature_extraction.text import CountVectorizer"
   ]
  },
  {
   "cell_type": "code",
   "execution_count": 73,
   "metadata": {},
   "outputs": [
    {
     "name": "stdout",
     "output_type": "stream",
     "text": [
      "[[0 0 0 0 0 0 0 0 1 1 0 0 0 1 0 1 0 1 0 1 1 0 0 0 0 0 0 0 0 0 0 0 0 1 1 0 0\n",
      "  0 1 0 1 0 1 1]\n",
      " [1 1 0 0 0 0 1 0 0 0 0 1 0 0 1 0 0 0 0 0 0 1 1 0 1 1 1 1 0 1 1 0 1 0 1 0 1\n",
      "  1 0 0 0 0 0 0]\n",
      " [1 0 1 1 1 1 0 2 0 0 1 1 1 0 0 0 1 0 1 1 0 0 0 1 0 0 0 0 1 0 0 1 0 0 0 1 0\n",
      "  1 0 1 0 1 1 0]]\n",
      "{'twitter': 40, 'is': 13, 'one': 20, 'of': 19, 'the': 34, 'most': 17, 'important': 8, 'social': 33, 'media': 15, 'used': 42, 'in': 9, 'today': 38, 'world': 43, 'it': 14, 'provides': 29, 'platform': 27, 'to': 37, 'share': 32, 'people': 24, 'opinions': 21, 'facts': 6, 'and': 0, 'information': 11, 'regarding': 30, 'person': 25, 'place': 26, 'animals': 1, 'or': 22, 'things': 36, 'these': 35, 'tweets': 39, 'are': 2, 'by': 4, 'several': 31, 'private': 28, 'governmental': 7, 'non': 18, 'organizations': 23, 'mine': 16, 'different': 5, 'types': 41, 'including': 10, 'business': 3, 'intelligence': 12}\n"
     ]
    }
   ],
   "source": [
    "corpus = []\n",
    "\n",
    "len(text.sentences)\n",
    "\n",
    "for sentence in text.sentences:\n",
    "    corpus.append(str(sentence))\n",
    "    \n",
    "vectorizer = CountVectorizer()\n",
    "print( vectorizer.fit_transform(corpus).todense() )\n",
    "print( vectorizer.vocabulary_ )\n"
   ]
  }
 ],
 "metadata": {
  "kernelspec": {
   "display_name": "Python 3",
   "language": "python",
   "name": "python3"
  },
  "language_info": {
   "codemirror_mode": {
    "name": "ipython",
    "version": 3
   },
   "file_extension": ".py",
   "mimetype": "text/x-python",
   "name": "python",
   "nbconvert_exporter": "python",
   "pygments_lexer": "ipython3",
   "version": "3.6.5"
  }
 },
 "nbformat": 4,
 "nbformat_minor": 2
}
